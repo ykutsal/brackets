{
  "cells": [
    {
      "cell_type": "markdown",
      "metadata": {
        "id": "view-in-github",
        "colab_type": "text"
      },
      "source": [
        "<a href=\"https://colab.research.google.com/github/ykutsal/brackets/blob/master/scratchpad.ipynb\" target=\"_parent\"><img src=\"https://colab.research.google.com/assets/colab-badge.svg\" alt=\"Open In Colab\"/></a>"
      ]
    },
    {
      "cell_type": "code",
      "execution_count": null,
      "metadata": {
        "id": "lIYdn1woOS1n"
      },
      "outputs": [],
      "source": []
    },
    {
      "cell_type": "code",
      "source": [
        "\n",
        "import easyocr as ocr  #OCR\n",
        "from matplotlib import pyplot as plt, image\n",
        "import cv2\n",
        "from matplotlib import pyplot as plt\n",
        "import numpy as np\n",
        "import shutil\n",
        "import os\n",
        "import time\n",
        "import uuid\n",
        "from PIL import Image\n",
        "import numpy as np\n",
        "\n",
        "# Provide the absolute path to the image file\n",
        "image_path = \"C:\\Users\\ykuts\\OneDrive\\Masaüstü\\content\\At-resimleri_5.jpg\"  # Replace with the actual absolute path\n",
        "# image_path = \"C:\\\\Users\\\\ykuts\\\\OneDrive\\\\Masaüstü\\\\content\\\\At-resimleri_5.jpg\"  # Replace with the actual absolute path on Windows\n",
        "\n",
        "# Try to open the image using the absolute path\n",
        "try:\n",
        "    img = Image.open(image_path)\n",
        "    img.show()  # Resmi görüntülemek için\n",
        "    # shutil.move(\"C:\\\\Users\\\\ykuts\\\\OneDrive\\\\Masaüstü\\\\content\\\\At-resimleri_5.jpg\", \"new_location\") # Add a destination path for the move function\n",
        "\n",
        "except FileNotFoundError:\n",
        "    print(f\"Error: Image file not found at {image_path}\")\n",
        "    print(\"Please make sure the file exists and the path is correct.\")\n",
        "\n",
        "\n",
        "#ocr_motoru = ocr.Reader(['tr'])"
      ],
      "metadata": {
        "id": "t16lxDLtMkQZ",
        "outputId": "f16c914e-2755-4ae0-a062-cd683a4be8b3",
        "colab": {
          "base_uri": "https://localhost:8080/",
          "height": 146
        }
      },
      "execution_count": 16,
      "outputs": [
        {
          "output_type": "error",
          "ename": "SyntaxError",
          "evalue": "(unicode error) 'unicodeescape' codec can't decode bytes in position 2-3: truncated \\UXXXXXXXX escape (<ipython-input-16-2197269426bb>, line 14)",
          "traceback": [
            "\u001b[0;36m  File \u001b[0;32m\"<ipython-input-16-2197269426bb>\"\u001b[0;36m, line \u001b[0;32m14\u001b[0m\n\u001b[0;31m    image_path = \"C:\\Users\\ykuts\\OneDrive\\Masaüstü\\content\\At-resimleri_5.jpg\"  # Replace with the actual absolute path\u001b[0m\n\u001b[0m                                                                                ^\u001b[0m\n\u001b[0;31mSyntaxError\u001b[0m\u001b[0;31m:\u001b[0m (unicode error) 'unicodeescape' codec can't decode bytes in position 2-3: truncated \\UXXXXXXXX escape\n"
          ]
        }
      ]
    },
    {
      "cell_type": "code",
      "source": [],
      "metadata": {
        "id": "ybVEQQdNODrY"
      },
      "execution_count": null,
      "outputs": []
    }
  ],
  "metadata": {
    "colab": {
      "name": "scratchpad",
      "provenance": [],
      "include_colab_link": true
    },
    "kernelspec": {
      "display_name": "Python 3",
      "name": "python3"
    }
  },
  "nbformat": 4,
  "nbformat_minor": 0
}